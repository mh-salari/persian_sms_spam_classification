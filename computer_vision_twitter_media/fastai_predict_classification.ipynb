{
 "cells": [
  {
   "cell_type": "code",
   "execution_count": 1,
   "id": "3f4f04b2",
   "metadata": {},
   "outputs": [],
   "source": [
    "import warnings\n",
    "warnings.filterwarnings('ignore')"
   ]
  },
  {
   "cell_type": "code",
   "execution_count": 2,
   "id": "worth-abortion",
   "metadata": {},
   "outputs": [],
   "source": [
    "from fastai.vision.all import *\n",
    "from PIL import Image\n",
    "from IPython import display\n",
    "from tqdm import tqdm\n",
    "import cv2\n",
    "import json\n",
    "import pytesseract"
   ]
  },
  {
   "cell_type": "code",
   "execution_count": 3,
   "id": "undefined-award",
   "metadata": {},
   "outputs": [],
   "source": [
    "path = Path ('/home/hue/Codes/samandoon/search_twitter/database/media')"
   ]
  },
  {
   "cell_type": "code",
   "execution_count": 4,
   "id": "aggregate-nature",
   "metadata": {},
   "outputs": [
    {
     "data": {
      "text/plain": [
       "37201"
      ]
     },
     "execution_count": 4,
     "metadata": {},
     "output_type": "execute_result"
    }
   ],
   "source": [
    "files = get_image_files(path)\n",
    "len(files)"
   ]
  },
  {
   "cell_type": "code",
   "execution_count": 5,
   "id": "48799743",
   "metadata": {},
   "outputs": [],
   "source": [
    "import matplotlib.pyplot as plt"
   ]
  },
  {
   "cell_type": "code",
   "execution_count": 6,
   "id": "peaceful-hepatitis",
   "metadata": {},
   "outputs": [],
   "source": [
    "def display_images(cv_image, title=\"\"):    \n",
    "    plt.figure(figsize=(10,10))\n",
    "    plt.axis('off')\n",
    "    plt.imshow(cv_image)\n",
    "    plt.title(title)\n",
    "     # display that image\n",
    "    plt.show()"
   ]
  },
  {
   "cell_type": "code",
   "execution_count": 7,
   "id": "assigned-graham",
   "metadata": {},
   "outputs": [],
   "source": [
    "learner = load_learner(\"outputs/fastai_resnet50.pkl\")"
   ]
  },
  {
   "cell_type": "code",
   "execution_count": 8,
   "id": "voluntary-teaching",
   "metadata": {
    "scrolled": false
   },
   "outputs": [
    {
     "name": "stderr",
     "output_type": "stream",
     "text": [
      "100%|█████████████████████████████████████████████████████████████████████| 37201/37201 [1:08:17<00:00,  9.08it/s, num_message=10510, num_other=26691]\n"
     ]
    }
   ],
   "source": [
    "labels = dict()\n",
    "num_message = 0\n",
    "num_other = 0\n",
    "\n",
    "pbar = tqdm(files[:])\n",
    "for file_path in pbar:\n",
    "       \n",
    "    with learner.no_bar():\n",
    "        label, _, accuracy = learner.predict(file_path)\n",
    "        \n",
    "\n",
    "    labels[os.path.basename(file_path)] = (label, torch.max(accuracy).item())\n",
    "    #display_images(file_path, f\"{label}, {torch.max(accuracy)}\")\n",
    "    \n",
    "    if label == \"message\":\n",
    "        num_message += 1\n",
    "    else:\n",
    "        num_other += 1\n",
    "        \n",
    "    pbar.set_postfix({'num_message': num_message, 'num_other': num_other})\n",
    "    \n"
   ]
  },
  {
   "cell_type": "code",
   "execution_count": 9,
   "id": "0cd4f9e2",
   "metadata": {},
   "outputs": [],
   "source": [
    "with open(\"fastai_labels.json\", \"w\") as outfile: \n",
    "    json.dump(labels, outfile)"
   ]
  },
  {
   "cell_type": "code",
   "execution_count": 10,
   "id": "f022ae0c",
   "metadata": {},
   "outputs": [],
   "source": [
    "# with open('fastai_labels.json', 'r') as fp:\n",
    "#     data = json.load(fp)"
   ]
  },
  {
   "cell_type": "code",
   "execution_count": 13,
   "id": "60ef0d52",
   "metadata": {},
   "outputs": [
    {
     "name": "stdout",
     "output_type": "stream",
     "text": [
      "28.25%\n"
     ]
    }
   ],
   "source": [
    "print(f\"{num_message/(num_message+num_other)*100:0.2f}%\")"
   ]
  },
  {
   "cell_type": "code",
   "execution_count": null,
   "id": "atmospheric-professional",
   "metadata": {
    "scrolled": false
   },
   "outputs": [],
   "source": [
    "for file_name, (label, accuracy) in labels.items():\n",
    "    if label == \"message\":\n",
    "        file_path = str(path) + \"/\" + file_name\n",
    "        image=fix_theme(cv2.imread(file_path))\n",
    "        display_images(image, f\" {file_name} - {label}, {accuracy}\")\n",
    "        \n",
    "        img_rgb = cv2.cvtColor(image, cv2.COLOR_BGR2RGB)\n",
    "        print(pytesseract.image_to_string(img_rgb, lang='fas'))\n",
    "#     print(file_name)"
   ]
  },
  {
   "cell_type": "code",
   "execution_count": null,
   "id": "guilty-latvia",
   "metadata": {},
   "outputs": [],
   "source": []
  }
 ],
 "metadata": {
  "kernelspec": {
   "display_name": "Python 3 (ipykernel)",
   "language": "python",
   "name": "python3"
  },
  "language_info": {
   "codemirror_mode": {
    "name": "ipython",
    "version": 3
   },
   "file_extension": ".py",
   "mimetype": "text/x-python",
   "name": "python",
   "nbconvert_exporter": "python",
   "pygments_lexer": "ipython3",
   "version": "3.9.1"
  }
 },
 "nbformat": 4,
 "nbformat_minor": 5
}
